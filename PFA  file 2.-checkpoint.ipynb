{
 "cells": [
  {
   "cell_type": "code",
   "execution_count": 1,
   "id": "801c5016",
   "metadata": {},
   "outputs": [
    {
     "name": "stdout",
     "output_type": "stream",
     "text": [
      "Answer:d) Both a and b\n"
     ]
    }
   ],
   "source": [
    "#question 21 When implementing linear regression of some dependent variable 𝑦 on the set of independent\n",
    "#variables 𝐱 = (𝑥₁, …, 𝑥ᵣ), where 𝑟 is the number of predictors, which of the following statements will\n",
    "#be true?\n",
    "print('Answer:d) Both a and b')"
   ]
  },
  {
   "cell_type": "code",
   "execution_count": 3,
   "id": "5f2888f9",
   "metadata": {},
   "outputs": [
    {
     "name": "stdout",
     "output_type": "stream",
     "text": [
      "Answer:d) The value 𝑅² = 1, which corresponds to SSR = 0\n"
     ]
    }
   ],
   "source": [
    "#question 22 What indicates that you have a perfect fit in linear regression?\n",
    "print('Answer:d) The value 𝑅² = 1, which corresponds to SSR = 0')\n"
   ]
  },
  {
   "cell_type": "code",
   "execution_count": 8,
   "id": "579cdfe9",
   "metadata": {},
   "outputs": [
    {
     "name": "stdout",
     "output_type": "stream",
     "text": [
      "Answer: b) B0 \n"
     ]
    }
   ],
   "source": [
    "# question 23 In simple linear regression, the value of what shows the point where the estimated regression line\n",
    "#crosses the 𝑦 axis?\n",
    "print('Answer: b) B0 ')\n",
    "\n"
   ]
  },
  {
   "cell_type": "code",
   "execution_count": 9,
   "id": "db0bf63f",
   "metadata": {},
   "outputs": [
    {
     "name": "stdout",
     "output_type": "stream",
     "text": [
      "Answer: b) The top-right plot \n"
     ]
    }
   ],
   "source": [
    "#question 24 Which one represents an underfitted model?\n",
    "print('Answer: b) The top-right plot ')"
   ]
  },
  {
   "cell_type": "code",
   "execution_count": 1,
   "id": "e22c7ffe",
   "metadata": {},
   "outputs": [
    {
     "name": "stdout",
     "output_type": "stream",
     "text": [
      "Answer:d) d, b, e, a, c\n"
     ]
    }
   ],
   "source": [
    "#question 25 There are five basic steps when you’re implementing linear regression:\n",
    "#• a. Check the results of model fitting to know whether the model is satisfactory.\n",
    "#• b. Provide data to work with, and eventually do appropriate transformations.\n",
    "#• c. Apply the model for predictions.\n",
    "#• d. Import the packages and classes that you need.\n",
    "#• e. Create a regression model and fit it with existing data.\n",
    "#However, those steps are currently listed in the wrong order. What’s the correct order?\n",
    "print('Answer:d) d, b, e, a, c')\n"
   ]
  },
  {
   "cell_type": "code",
   "execution_count": 2,
   "id": "8567f947",
   "metadata": {},
   "outputs": [
    {
     "name": "stdout",
     "output_type": "stream",
     "text": [
      "Answer: b) fit_intercept, c) normalize, d) copy_X, e) n_jobs.\n"
     ]
    }
   ],
   "source": [
    "#auestion 26 Which of the following are optional parameters to LinearRegression in scikit-learn?\n",
    "print('Answer: b) fit_intercept, c) normalize, d) copy_X, e) n_jobs.')"
   ]
  },
  {
   "cell_type": "code",
   "execution_count": 3,
   "id": "b7cf26cc",
   "metadata": {},
   "outputs": [
    {
     "name": "stdout",
     "output_type": "stream",
     "text": [
      "Answer:c) Polynomial regression \n"
     ]
    }
   ],
   "source": [
    "#question 27 While working with scikit-learn, in which type of regression do you need to transform the array of\n",
    "#inputs to include nonlinear terms such as 𝑥²?\n",
    "print('Answer:c) Polynomial regression ')"
   ]
  },
  {
   "cell_type": "code",
   "execution_count": 4,
   "id": "700d84a1",
   "metadata": {},
   "outputs": [
    {
     "name": "stdout",
     "output_type": "stream",
     "text": [
      "Answer:c)You need more detailed results \n"
     ]
    }
   ],
   "source": [
    "#question 28) You should choose statsmodels over scikit-learn when:\n",
    "print('Answer:c)You need more detailed results ')"
   ]
  },
  {
   "cell_type": "code",
   "execution_count": 5,
   "id": "b8aea96c",
   "metadata": {},
   "outputs": [
    {
     "name": "stdout",
     "output_type": "stream",
     "text": [
      "Answer:b) Numpy\n"
     ]
    }
   ],
   "source": [
    "#question 29)_________ is a fundamental package for scientific computing with Python. It offers\n",
    "#comprehensive mathematical functions, random number generators, linear algebra routines, Fourier\n",
    "#transforms, and more. It provides a high-level syntax that makes it accessible and productive.\n",
    "print('Answer:b) Numpy')\n"
   ]
  },
  {
   "cell_type": "code",
   "execution_count": 6,
   "id": "526b1080",
   "metadata": {},
   "outputs": [
    {
     "name": "stdout",
     "output_type": "stream",
     "text": [
      "Answer:b) Seaborn \n"
     ]
    }
   ],
   "source": [
    "#question 30)  _________ is a Python data visualization library based on Matplotlib. It provides a high-level\n",
    "#interface for drawing attractive and informative statistical graphics that allow you to explore and\n",
    "#understand your data. It integrates closely with pandas data structures.\n",
    "print('Answer:b) Seaborn ')"
   ]
  },
  {
   "cell_type": "code",
   "execution_count": null,
   "id": "556f9394",
   "metadata": {},
   "outputs": [],
   "source": []
  },
  {
   "cell_type": "code",
   "execution_count": null,
   "id": "bfd694e5",
   "metadata": {},
   "outputs": [],
   "source": []
  },
  {
   "cell_type": "code",
   "execution_count": null,
   "id": "a5d35631",
   "metadata": {},
   "outputs": [],
   "source": []
  },
  {
   "cell_type": "code",
   "execution_count": null,
   "id": "627e4169",
   "metadata": {},
   "outputs": [],
   "source": []
  }
 ],
 "metadata": {
  "kernelspec": {
   "display_name": "Python 3 (ipykernel)",
   "language": "python",
   "name": "python3"
  },
  "language_info": {
   "codemirror_mode": {
    "name": "ipython",
    "version": 3
   },
   "file_extension": ".py",
   "mimetype": "text/x-python",
   "name": "python",
   "nbconvert_exporter": "python",
   "pygments_lexer": "ipython3",
   "version": "3.9.13"
  }
 },
 "nbformat": 4,
 "nbformat_minor": 5
}
